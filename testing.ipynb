{
 "cells": [
  {
   "cell_type": "code",
   "execution_count": null,
   "metadata": {},
   "outputs": [],
   "source": []
  },
  {
   "cell_type": "code",
   "execution_count": 22,
   "metadata": {},
   "outputs": [
    {
     "name": "stdout",
     "output_type": "stream",
     "text": [
      "1055813218653700166\n"
     ]
    }
   ],
   "source": [
    "import pandas\n",
    "import numpy \n",
    "#\"configs/roleID_database.csv\"\n",
    "# 1055813218653700166\n",
    "\n",
    "\n",
    "# Find row with \"1055813218653700166\" in \"configs/roleID_database.csv\"\n",
    "df = pandas.read_csv(\"configs/roleID_database.csv\")\n",
    "df = df[df[\"guild_id\"] == 1055813218653700166]\n",
    "print(df.values[0])\n",
    "\n",
    "     "
   ]
  }
 ],
 "metadata": {
  "kernelspec": {
   "display_name": "Python 3",
   "language": "python",
   "name": "python3"
  },
  "language_info": {
   "codemirror_mode": {
    "name": "ipython",
    "version": 3
   },
   "file_extension": ".py",
   "mimetype": "text/x-python",
   "name": "python",
   "nbconvert_exporter": "python",
   "pygments_lexer": "ipython3",
   "version": "3.10.1"
  },
  "orig_nbformat": 4,
  "vscode": {
   "interpreter": {
    "hash": "aee8b7b246df8f9039afb4144a1f6fd8d2ca17a180786b69acc140d282b71a49"
   }
  }
 },
 "nbformat": 4,
 "nbformat_minor": 2
}
